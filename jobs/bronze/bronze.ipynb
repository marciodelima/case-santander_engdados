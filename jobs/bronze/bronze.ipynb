{
 "cells": [
  {
   "cell_type": "markdown",
   "metadata": {},
   "source": [
    "# JOB - CAMADA BRONZE\n",
    "\n",
    "## Equalização em PARQUET, aplicação de anominização de dados - LGPD - MD5"
   ]
  },
  {
   "cell_type": "code",
   "execution_count": null,
   "metadata": {},
   "outputs": [],
   "source": [
    "#Import\n",
    "import pyspark\n",
    "from pyspark.sql import SparkSession\n",
    "from pyspark.sql.functions import *\n",
    "from pyspark.sql import functions as F\n",
    "from pyspark.sql.types import *\n",
    "from datetime import datetime\n",
    "\n",
    "import warnings\n",
    "warnings.filterwarnings(\"ignore\")\n",
    "\n",
    "#Conf para o parquet - HIVE\n",
    "from pyspark.conf import SparkConf\n",
    "conf = SparkConf()\n",
    "conf.set(\"spark.sql.parquet.writeLegacyFormat\", True)"
   ]
  },
  {
   "cell_type": "code",
   "execution_count": null,
   "metadata": {},
   "outputs": [],
   "source": [
    "dataAtual = datetime.today().strftime('%Y%m%d')\n",
    "#dataAtual = '20220528'"
   ]
  },
  {
   "cell_type": "code",
   "execution_count": null,
   "metadata": {},
   "outputs": [],
   "source": [
    "# Cria a sessão Spark\n",
    "spark = SparkSession.builder.appName('pipeline-bronze').master(\"local\").getOrCreate()"
   ]
  },
  {
   "cell_type": "code",
   "execution_count": null,
   "metadata": {},
   "outputs": [],
   "source": [
    "# Carrega os dados a partir do HDFS - RAW\n",
    "\n",
    "dadosCli = spark.read.parquet(\"hdfs://34.151.243.241:9000/datalake/raw/clientes/\" + dataAtual + \"/*\")\n",
    "dadosVei = spark.read.parquet(\"hdfs://34.151.243.241:9000/datalake/raw/veiculos/\" + dataAtual + \"/*\")\n",
    "dadosDes = spark.read.parquet(\"hdfs://34.151.243.241:9000/datalake/raw/despachantes/\" + dataAtual + \"/*\")\n",
    "dadosLoc = spark.read.parquet(\"hdfs://34.151.243.241:9000/datalake/raw/locacao/\" + dataAtual + \"/*\")\n",
    "#json\n",
    "dadosContratos = spark.read.option(\"multiline\",\"true\").json(\"hdfs://34.151.243.241:9000/datalake/raw/contratos/\" + dataAtual + \"/*\")\n"
   ]
  },
  {
   "cell_type": "code",
   "execution_count": null,
   "metadata": {},
   "outputs": [],
   "source": [
    "#Tratamento dos dados - Limpeza, Anominização , Coalesce\n",
    "\n",
    "dadosCli = spark.read.parquet(\"hdfs://34.151.243.241:9000/datalake/raw/clientes/\" + dataAtual + \"/*\")\n",
    "dadosVei = spark.read.parquet(\"hdfs://34.151.243.241:9000/datalake/raw/veiculos/\" + dataAtual + \"/*\")\n",
    "dadosDes = spark.read.parquet(\"hdfs://34.151.243.241:9000/datalake/raw/despachantes/\" + dataAtual + \"/*\")\n",
    "dadosLoc = spark.read.parquet(\"hdfs://34.151.243.241:9000/datalake/raw/locacao/\" + dataAtual + \"/*\")\n",
    "#json\n",
    "dadosContratos = dadosContratos.drop(F.col(\"_id\"))\n",
    "\n",
    "dadosCli = dadosCli.withColumn(\"CPF\", F.md5(\"CPF\")).withColumn(\"CNH\", F.md5(\"CNH\")).withColumn(\"TELEFONE\", lit(0)).withColumn(\"NOME\", lit('ANONIMIZADO'))\n",
    "dadosDes = dadosDes.withColumn(\"NOME\", lit('ANONIMIZADO'))\n",
    "\n",
    "dadosCli.coalesce(1)\n",
    "dadosVei.coalesce(1)\n",
    "dadosDes.coalesce(1)\n",
    "dadosLoc.coalesce(1)\n",
    "dadosContratos.coalesce(1)"
   ]
  },
  {
   "cell_type": "code",
   "execution_count": null,
   "metadata": {},
   "outputs": [],
   "source": [
    "#Gravacao - Camada Bronze\n",
    "\n",
    "dadosCli.write.mode(\"overwrite\").parquet(\"hdfs://34.151.243.241:9000/datalake/bronze/clientes/\" + dataAtual + \"/\")\n",
    "dadosVei.write.mode(\"overwrite\").parquet(\"hdfs://34.151.243.241:9000/datalake/bronze/veiculos/\" + dataAtual + \"/\")\n",
    "dadosDes.write.mode(\"overwrite\").parquet(\"hdfs://34.151.243.241:9000/datalake/bronze/despachantes/\" + dataAtual + \"/\")\n",
    "dadosLoc.write.mode(\"overwrite\").parquet(\"hdfs://34.151.243.241:9000/datalake/bronze/locacao/\" + dataAtual + \"/\")\n",
    "dadosContratos.mode(\"overwrite\").write.parquet(\"hdfs://34.151.243.241:9000/datalake/bronze/contratos/\" + dataAtual + \"/\")\n",
    "                 "
   ]
  }
 ],
 "metadata": {
  "kernelspec": {
   "display_name": "Python 3",
   "language": "python",
   "name": "python3"
  },
  "language_info": {
   "codemirror_mode": {
    "name": "ipython",
    "version": 3
   },
   "file_extension": ".py",
   "mimetype": "text/x-python",
   "name": "python",
   "nbconvert_exporter": "python",
   "pygments_lexer": "ipython3",
   "version": "3.7.4"
  }
 },
 "nbformat": 4,
 "nbformat_minor": 2
}
