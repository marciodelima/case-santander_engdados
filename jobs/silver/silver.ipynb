{
 "cells": [
  {
   "cell_type": "markdown",
   "metadata": {},
   "source": [
    "# JOB - CAMADA SILVER\n",
    "\n",
    "## Data Quality e Deduplicação dos dados, junção histórica"
   ]
  },
  {
   "cell_type": "code",
   "execution_count": null,
   "metadata": {},
   "outputs": [],
   "source": [
    "#Import\n",
    "import pyspark\n",
    "from pyspark.sql import SparkSession\n",
    "from pyspark.sql.functions import *\n",
    "from pyspark.sql import functions as F\n",
    "from pyspark.sql.types import *\n",
    "from pyspark.sql.types import TimestampType\n",
    "from datetime import datetime\n",
    "\n",
    "import warnings\n",
    "warnings.filterwarnings(\"ignore\")\n",
    "#Conf para o parquet - HIVE\n",
    "from pyspark.conf import SparkConf\n",
    "conf = SparkConf()\n",
    "conf.set(\"spark.sql.parquet.writeLegacyFormat\", True)"
   ]
  },
  {
   "cell_type": "code",
   "execution_count": null,
   "metadata": {},
   "outputs": [],
   "source": [
    "dataAtual = datetime.today().strftime('%Y%m%d')\n",
    "#dataAtual = '20220528'"
   ]
  },
  {
   "cell_type": "code",
   "execution_count": null,
   "metadata": {},
   "outputs": [],
   "source": [
    "# Cria a sessão Spark\n",
    "spark = SparkSession.builder.appName('pipeline-silver').master(\"local\").getOrCreate()"
   ]
  },
  {
   "cell_type": "code",
   "execution_count": null,
   "metadata": {},
   "outputs": [],
   "source": [
    "# Carrega os dados a partir do HDFS - Bronze\n",
    "\n",
    "#Atual\n",
    "dadosCli = spark.read.parquet(\"hdfs://34.151.243.241:9000/datalake/bronze/clientes/\" + dataAtual + \"/*\")\n",
    "dadosVei = spark.read.parquet(\"hdfs://34.151.243.241:9000/datalake/bronze/veiculos/\" + dataAtual + \"/*\")\n",
    "dadosDes = spark.read.parquet(\"hdfs://34.151.243.241:9000/datalake/bronze/despachantes/\" + dataAtual + \"/*\")\n",
    "dadosLoc = spark.read.parquet(\"hdfs://34.151.243.241:9000/datalake/bronze/locacao/\" + dataAtual + \"/*\")\n",
    "dadosContratos = spark.read.parquet(\"hdfs://34.151.243.241:9000/datalake/bronze/contratos/\" + dataAtual + \"/*\")"
   ]
  },
  {
   "cell_type": "code",
   "execution_count": null,
   "metadata": {},
   "outputs": [],
   "source": [
    "#Tratamento dos dados - Colunas, deduplicacao, juncao historica\n",
    "dadosCli = dadosCli.withColumn(\"DATACADASTRO\", to_date(F.from_unixtime((F.col('DATACADASTRO')/1000))))\n",
    "dadosCli = dadosCli.withColumn(\"DATANASCIMENTO\", to_date(F.from_unixtime((F.col('DATANASCIMENTO')/1000))))\n",
    "dadosCli = dadosCli.withColumn(\"STATUS\", F.upper(F.col('STATUS')))\n",
    "dadosCli = dadosCli.filter(F.col(\"STATUS\")=='ATIVO')\n",
    "\n",
    "dadosVei = dadosVei.withColumn(\"MODELO\", F.upper(F.col('MODELO')))\n",
    "dadosVei = dadosVei.withColumn(\"STATUS\", F.upper(F.col('STATUS')))\n",
    "dadosVei = dadosVei.filter(F.col(\"STATUS\")=='DISPONÍVEL')\n",
    "\n",
    "dadosDes = dadosDes.withColumn(\"FILIAL\", F.upper(F.col('FILIAL')))\n",
    "dadosDes = dadosDes.withColumn(\"STATUS\", F.upper(F.col('STATUS')))\n",
    "dadosDes = dadosDes.filter(F.col(\"STATUS\")=='ATIVO')\n",
    "\n",
    "dadosLoc = dadosLoc.withColumn(\"DATALOCACAO\", to_date(F.from_unixtime((F.col('DATALOCACAO')/1000))))\n",
    "dadosLoc = dadosLoc.withColumn(\"DATAENTREGA\", to_date(F.from_unixtime((F.col('DATAENTREGA')/1000))))\n",
    "\n",
    "for col in dadosContratos.columns:\n",
    "    dadosContratos = dadosContratos.withColumnRenamed(col, col.upper())\n",
    "\n",
    "dadosContratos = dadosContratos.withColumn(\"DATACADASTRO\", to_date(F.col('DATACADASTRO'),\"dd/MM/yyyy\"))\n",
    "\n",
    "dadosCli=dadosCli.coalesce(1)\n",
    "dadosVei=dadosVei.coalesce(1)\n",
    "dadosDes=dadosDes.coalesce(1)\n",
    "dadosLoc=dadosLoc.coalesce(1)\n",
    "dadosContratos=dadosContratos.coalesce(1)"
   ]
  },
  {
   "cell_type": "code",
   "execution_count": null,
   "metadata": {},
   "outputs": [],
   "source": [
    "#Historico\n",
    "try:\n",
    "    dadosCliS = spark.read.parquet(\"hdfs://34.151.243.241:9000/datalake/silver/clientes/*\")\n",
    "    dadosVeiS = spark.read.parquet(\"hdfs://34.151.243.241:9000/datalake/silver/veiculos/*\")\n",
    "    dadosDesS = spark.read.parquet(\"hdfs://34.151.243.241:9000/datalake/silver/despachantes/*\")\n",
    "    dadosLocS = spark.read.parquet(\"hdfs://34.151.243.241:9000/datalake/silver/locacao/*\")\n",
    "    dadosContratosS = spark.read.parquet(\"hdfs://34.151.243.241:9000/datalake/silver/contratos/*\")\n",
    "except:\n",
    "    dadosCliS = spark.createDataFrame([],StructType([]))\n",
    "    dadosVeiS = spark.createDataFrame([],StructType([]))\n",
    "    dadosDesS = spark.createDataFrame([],StructType([]))\n",
    "    dadosLocS = spark.createDataFrame([],StructType([]))\n",
    "    dadosContratosS = spark.createDataFrame([],StructType([]))\n",
    "    pass\n",
    "\n",
    "#Join e tratamento de duplicados\n",
    "dadosCliJoin = dadosCli.distinct()\n",
    "dadosVeiJoin = dadosVei.distinct()\n",
    "dadosDesJoin = dadosDes.distinct()\n",
    "dadosLocJoin = dadosLoc.distinct()\n",
    "dadosContratosJoin = dadosContratos.distinct()\n",
    "\n",
    "try: \n",
    "    dadosCliJoin = dadosCli.unionAll(dadosCliS).distinct()\n",
    "    dadosVeiJoin = dadosVei.unionAll(dadosVeiS).distinct()\n",
    "    dadosDesJoin = dadosDes.unionAll(dadosDesS).distinct()\n",
    "    dadosLocJoin = dadosLoc.unionAll(dadosLocS).distinct()\n",
    "    dadosContratosJoin = dadosContratos.unionAll(dadosContratosS).distinct()\n",
    "except:\n",
    "    pass\n"
   ]
  },
  {
   "cell_type": "code",
   "execution_count": null,
   "metadata": {},
   "outputs": [],
   "source": [
    "#Gravacao - Camada Silver\n",
    "dadosCliJoin.write.mode(\"overwrite\").parquet(\"hdfs://34.151.243.241:9000/datalake/silver/clientes/\")\n",
    "dadosVeiJoin.write.mode(\"overwrite\").parquet(\"hdfs://34.151.243.241:9000/datalake/silver/veiculos/\")\n",
    "dadosDesJoin.write.mode(\"overwrite\").parquet(\"hdfs://34.151.243.241:9000/datalake/silver/despachantes/\")\n",
    "dadosLocJoin.write.mode(\"overwrite\").parquet(\"hdfs://34.151.243.241:9000/datalake/silver/locacao/\")\n",
    "dadosContratosJoin.write.mode(\"overwrite\").parquet(\"hdfs://34.151.243.241:9000/datalake/silver/contratos/\")"
   ]
  }
 ],
 "metadata": {
  "kernelspec": {
   "display_name": "Python 3",
   "language": "python",
   "name": "python3"
  },
  "language_info": {
   "codemirror_mode": {
    "name": "ipython",
    "version": 3
   },
   "file_extension": ".py",
   "mimetype": "text/x-python",
   "name": "python",
   "nbconvert_exporter": "python",
   "pygments_lexer": "ipython3",
   "version": "3.7.4"
  }
 },
 "nbformat": 4,
 "nbformat_minor": 2
}
