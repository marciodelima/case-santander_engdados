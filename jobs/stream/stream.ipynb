{
 "cells": [
  {
   "cell_type": "markdown",
   "metadata": {},
   "source": [
    "# JOB - CAMADA RAW - STREAM\n",
    "\n",
    "## Contrato de Riscos - Quantidade-DIA - Streaming"
   ]
  },
  {
   "cell_type": "code",
   "execution_count": null,
   "metadata": {},
   "outputs": [],
   "source": [
    "#Import\n",
    "import pyspark\n",
    "from pyspark.sql import SparkSession\n",
    "from pyspark.sql.functions import *\n",
    "from pyspark.sql import functions as F\n",
    "from pyspark.sql.types import *\n",
    "from datetime import datetime\n",
    "\n",
    "import warnings\n",
    "warnings.filterwarnings(\"ignore\")\n",
    "#Conf para o parquet - HIVE\n",
    "from pyspark.conf import SparkConf\n",
    "conf = SparkConf()\n",
    "conf.set(\"spark.sql.parquet.writeLegacyFormat\", True)\n",
    "\n",
    "# Cria a sessão Spark\n",
    "spark = SparkSession.builder.appName('pipeline-stream').master(\"local\").getOrCreate()\n",
    "\n",
    "def processarDados(df, epoch_id):\n",
    "    dataAtual = datetime.today().strftime('%Y%m%d')\n",
    "    df = df.selectExpr(\"CAST(value AS STRING)\")\n",
    "    df = df.withColumn(\"value\", from_json(F.col(\"value\"),schema))\n",
    "    df = df.select(\"value.*\")\n",
    "    for col in df.columns: \n",
    "        df = df.withColumnRenamed(col, col.upper())\n",
    "    \n",
    "    df = df.withColumn(\"DATACADASTRO\", to_date(F.col('DATACADASTRO'),\"dd/MM/yyyy\"))\n",
    "    df.write.mode(\"append\").json(\"hdfs://34.151.243.241:9000/datalake/raw/contratosStream/\" + dataAtual + \"/\")\n",
    "    df.write.mode(\"append\").parquet(\"hdfs://34.151.243.241:9000/datalake/bronze/contratosStream/\" + dataAtual + \"/\")\n",
    "    df.write.mode(\"append\").parquet(\"hdfs://34.151.243.241:9000/datalake/silver/contratosStream/\")\n",
    "\n",
    "\n",
    "schema = StructType([StructField(\"idcliente\",StringType(),True),\n",
    "                     StructField(\"idcontrato\",StringType(),True),\n",
    "                     StructField(\"datacadastro\",StringType(),True),\n",
    "                     StructField(\"contrato\", StringType(),True)])\n",
    "\n",
    "df = spark \\\n",
    "  .readStream \\\n",
    "  .format(\"kafka\") \\\n",
    "  .option(\"kafka.bootstrap.servers\", \"34.151.219.59:9092\") \\\n",
    "  .option(\"subscribe\", \"engdados-stream\") \\\n",
    "  .load()\n",
    "\n",
    "df.writeStream \\\n",
    "  .format(\"console\") \\\n",
    "  .option(\"kafka.bootstrap.servers\", \"34.151.219.59:9092\") \\\n",
    "  .option(\"topic\", \"engdados-stream\") \\\n",
    "  .foreachBatch(processarDados) \\\n",
    "  .option(\"checkpointLocation\",\"{}{}\".format(\"/tmp/contratosStream/\", \"_checkpoint\")) \\\n",
    "  .start() \\\n",
    "  .awaitTermination()\n"
   ]
  }
 ],
 "metadata": {
  "kernelspec": {
   "display_name": "Python 3",
   "language": "python",
   "name": "python3"
  },
  "language_info": {
   "codemirror_mode": {
    "name": "ipython",
    "version": 3
   },
   "file_extension": ".py",
   "mimetype": "text/x-python",
   "name": "python",
   "nbconvert_exporter": "python",
   "pygments_lexer": "ipython3",
   "version": "3.7.4"
  }
 },
 "nbformat": 4,
 "nbformat_minor": 2
}
